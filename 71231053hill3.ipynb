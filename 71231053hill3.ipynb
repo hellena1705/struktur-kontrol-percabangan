{
  "nbformat": 4,
  "nbformat_minor": 0,
  "metadata": {
    "colab": {
      "provenance": []
    },
    "kernelspec": {
      "name": "python3",
      "display_name": "Python 3"
    },
    "language_info": {
      "name": "python"
    }
  },
  "cells": [
    {
      "cell_type": "markdown",
      "source": [
        "soal 1 (3.1)"
      ],
      "metadata": {
        "id": "jPfpQSQfRd2M"
      }
    },
    {
      "cell_type": "code",
      "source": [
        "try:\n",
        "    suhu = int(input(\"Masukkan suhu tubuh: \"))\n",
        "\n",
        "    if suhu >= 38:\n",
        "        print(\"Anda demam\")\n",
        "    else:\n",
        "        print(\"Anda tidak demam\")\n",
        "\n",
        "except ValueError:\n",
        "    print(\"Masukkan suhu dalam bentuk angka.\")\n"
      ],
      "metadata": {
        "colab": {
          "base_uri": "https://localhost:8080/"
        },
        "id": "V0LyB9IzRf7g",
        "outputId": "6b18ea2e-4f01-42e2-c8fe-7533437ed92c"
      },
      "execution_count": 2,
      "outputs": [
        {
          "output_type": "stream",
          "name": "stdout",
          "text": [
            "Masukkan suhu tubuh: dua delapan\n",
            "Masukkan suhu dalam bentuk angka.\n"
          ]
        }
      ]
    },
    {
      "cell_type": "markdown",
      "source": [
        "soal 1 (3.2)"
      ],
      "metadata": {
        "id": "7IIYJtOGR1ia"
      }
    },
    {
      "cell_type": "code",
      "source": [
        "try:\n",
        "    bilangan = int(input(\"Masukkan suatu bilangan: \"))\n",
        "\n",
        "    if bilangan > 0:\n",
        "        print(\"Positif\")\n",
        "    elif bilangan < 0:\n",
        "        print(\"Negatif\")\n",
        "    elif bilangan == 0:\n",
        "        print(\"Nol\")\n",
        "\n",
        "except ValueError:\n",
        "    print(\"Masukkan bilangan dalam bentuk angka.\")"
      ],
      "metadata": {
        "colab": {
          "base_uri": "https://localhost:8080/"
        },
        "id": "f0L1eFCnR78y",
        "outputId": "2c6647a7-8994-4c0e-ff76-4de700a302ea"
      },
      "execution_count": 4,
      "outputs": [
        {
          "output_type": "stream",
          "name": "stdout",
          "text": [
            "Masukkan suatu bilangan: delapan\n",
            "Masukkan bilangan dalam bentuk angka.\n"
          ]
        }
      ]
    },
    {
      "cell_type": "markdown",
      "source": [
        "soal 1 (3.3)"
      ],
      "metadata": {
        "id": "EYD-8XDZT1rh"
      }
    },
    {
      "cell_type": "code",
      "source": [
        "try:\n",
        "    # input a, b dan c\n",
        "    a = int(input(\"Masukkan bilangan pertama: \"))\n",
        "    b = int(input(\"Masukkan bilangan kedua: \"))\n",
        "    c = int(input(\"Masukkan bilangan ketiga: \"))\n",
        "\n",
        "    # secara berurutan tulis kriteria untuk a, b, dan c\n",
        "    if a > b and a > c:\n",
        "        print(\"Terbesar: \", a)\n",
        "    elif b > a and b > c:\n",
        "        print(\"Terbesar: \", b)\n",
        "    elif c > a and c > b:\n",
        "        print(\"Terbesar: \", c)\n",
        "\n",
        "except ValueError:\n",
        "    print(\"Masukkan bilangan dalam bentuk angka.\")\n"
      ],
      "metadata": {
        "colab": {
          "base_uri": "https://localhost:8080/"
        },
        "id": "uq_eSsgKT3ix",
        "outputId": "a3919d1a-f5ea-44de-d74f-4667db955ffd"
      },
      "execution_count": 5,
      "outputs": [
        {
          "output_type": "stream",
          "name": "stdout",
          "text": [
            "Masukkan bilangan pertama: dua\n",
            "Masukkan bilangan dalam bentuk angka.\n"
          ]
        }
      ]
    },
    {
      "cell_type": "markdown",
      "source": [
        "soal 2 (3.2)"
      ],
      "metadata": {
        "id": "j9G4ovC9VgfL"
      }
    },
    {
      "cell_type": "code",
      "source": [
        "bilangan = int(input(\"Masukkan suatu bilangan: \"))\n",
        "print(\"Positif\" if bilangan > 0 else \"Negatif\" if bilangan < 0 else \"Nol\")\n"
      ],
      "metadata": {
        "colab": {
          "base_uri": "https://localhost:8080/"
        },
        "id": "pBrBozJAVoOj",
        "outputId": "fc04ec96-ef3c-4485-dc36-23d450c4ce54"
      },
      "execution_count": 6,
      "outputs": [
        {
          "output_type": "stream",
          "name": "stdout",
          "text": [
            "Masukkan suatu bilangan: 1\n",
            "Positif\n"
          ]
        }
      ]
    },
    {
      "cell_type": "markdown",
      "source": [
        "soal 3 (3.3)"
      ],
      "metadata": {
        "id": "mMlXMPTmWw12"
      }
    },
    {
      "cell_type": "code",
      "source": [
        "print(\"Jumlah hari dalam satu bulan (2020)\")\n",
        "try:\n",
        "    bulan = int(input(\"Masukkan bulan (1-12): \"))\n",
        "    if bulan == 1:\n",
        "        print(\"jumlah hari: 30\")\n",
        "    elif bulan == 2:\n",
        "        print(\"jumlah hari: 29\")\n",
        "    elif bulan == 3:\n",
        "        print(\"jumlah hari: 31\")\n",
        "    elif bulan == 4:\n",
        "        print(\"jumlah bulan: 30\")\n",
        "    elif bulan == 4:\n",
        "        print(\"jumlah bulan: 31\")\n",
        "    elif bulan == 5:\n",
        "        print(\"jumlah bulan: 30\")\n",
        "    elif bulan == 6:\n",
        "        print(\"jumlah bulan: 30\")\n",
        "    elif bulan == 7:\n",
        "        print(\"jumlah bulan: 31\")\n",
        "    elif bulan == 8:\n",
        "        print(\"jumlah bulan: 31\")\n",
        "    elif bulan == 9:\n",
        "        print(\"jumlah bulan: 30\")\n",
        "    elif bulan == 10:\n",
        "        print(\"jumlah bulan: 31\")\n",
        "    elif bulan == 11:\n",
        "        print(\"jumlah bulan: 30\")\n",
        "    elif bulan == 12:\n",
        "        print(\"jumlah bulan: 31\")\n",
        "    else:\n",
        "        print(\"bulan 1-12 saja\")\n",
        "\n",
        "except:\n",
        "    print(\"input anda tidak valid\")\n",
        "\n",
        "\n",
        ""
      ],
      "metadata": {
        "colab": {
          "base_uri": "https://localhost:8080/"
        },
        "id": "6nu3vJ8PWzWN",
        "outputId": "12bc84ef-85af-4b25-cc6c-2950717eac83"
      },
      "execution_count": 8,
      "outputs": [
        {
          "output_type": "stream",
          "name": "stdout",
          "text": [
            "Jumlah hari dalam satu bulan (2020)\n",
            "Masukkan bulan (1-12): dua\n",
            "input anda tidak valid\n"
          ]
        }
      ]
    },
    {
      "cell_type": "markdown",
      "source": [
        "soal 4 (3.4)"
      ],
      "metadata": {
        "id": "qQ9Qljt2522D"
      }
    },
    {
      "cell_type": "code",
      "source": [
        "try:\n",
        "    # Meminta pengguna memasukkan panjang ketiga sisi\n",
        "    sisi1 = int(input(\"Masukkan panjang sisi 1: \"))\n",
        "    sisi2 = int(input(\"Masukkan panjang sisi 2: \"))\n",
        "    sisi3 = int(input(\"Masukkan panjang sisi 3: \"))\n",
        "\n",
        "    # Memeriksa ketiga sisi\n",
        "    if sisi1 == sisi2 == sisi3:\n",
        "        print(\"semua sisi sama\")\n",
        "    elif sisi1 == sisi2 or sisi1 == sisi3 or sisi2 == sisi3:\n",
        "        print(\"2 sisi sama\")\n",
        "    else:\n",
        "        print(\"Tidak ada yang sama\")\n",
        "\n",
        "except ValueError:\n",
        "    print(\"Masukkan panjang sisi dalam bentuk bilangan bulat.\")"
      ],
      "metadata": {
        "colab": {
          "base_uri": "https://localhost:8080/"
        },
        "id": "OMasgxNy55d8",
        "outputId": "ce52c76b-97f7-474f-c5b6-e86f8c1caa66"
      },
      "execution_count": 11,
      "outputs": [
        {
          "output_type": "stream",
          "name": "stdout",
          "text": [
            "Masukkan panjang sisi 1: 11\n",
            "Masukkan panjang sisi 2: 1\n",
            "Masukkan panjang sisi 3: 1\n",
            "2 sisi sama\n"
          ]
        },
        {
          "output_type": "execute_result",
          "data": {
            "text/plain": [
              "11"
            ]
          },
          "metadata": {},
          "execution_count": 11
        }
      ]
    }
  ]
}